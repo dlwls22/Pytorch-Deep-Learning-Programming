{
 "cells": [
  {
   "cell_type": "code",
   "execution_count": 1,
   "metadata": {},
   "outputs": [],
   "source": [
    "import numpy as np\n",
    "import torch\n",
    "import torch.nn as nn"
   ]
  },
  {
   "cell_type": "code",
   "execution_count": 2,
   "metadata": {},
   "outputs": [],
   "source": [
    "# 입력 : 2, 출력 : 3 선형 함수의 정의\n",
    "l3 = nn.Linear(2, 3)"
   ]
  },
  {
   "cell_type": "code",
   "execution_count": 3,
   "metadata": {},
   "outputs": [
    {
     "name": "stdout",
     "output_type": "stream",
     "text": [
      "Linear(in_features=1, out_features=1, bias=True)\n"
     ]
    }
   ],
   "source": [
    "# 난수 시드값 고정\n",
    "torch.manual_seed(123)\n",
    "\n",
    "# 입력 : 1, 출력 : 1 선형 함수의 정의\n",
    "l1 = nn.Linear(1, 1)\n",
    "\n",
    "# 선형 함수 확인\n",
    "print(l1)"
   ]
  },
  {
   "cell_type": "code",
   "execution_count": 4,
   "metadata": {},
   "outputs": [
    {
     "name": "stdout",
     "output_type": "stream",
     "text": [
      "name :  weight\n",
      "tensor :  Parameter containing:\n",
      "tensor([[-0.4078]], requires_grad=True)\n",
      "shape :  torch.Size([1, 1])\n",
      "name :  bias\n",
      "tensor :  Parameter containing:\n",
      "tensor([0.0331], requires_grad=True)\n",
      "shape :  torch.Size([1])\n"
     ]
    }
   ],
   "source": [
    "# 파라미터명, 파라미터 값, shape 표시\n",
    "for param in l1.named_parameters():\n",
    "    print('name : ', param[0])\n",
    "    print('tensor : ', param[1])\n",
    "    print('shape : ', param[1].shape)"
   ]
  },
  {
   "cell_type": "code",
   "execution_count": 5,
   "metadata": {},
   "outputs": [
    {
     "name": "stdout",
     "output_type": "stream",
     "text": [
      "Parameter containing:\n",
      "tensor([[2.]], requires_grad=True)\n",
      "Parameter containing:\n",
      "tensor([1.], requires_grad=True)\n"
     ]
    }
   ],
   "source": [
    "# 초깃값 설정\n",
    "nn.init.constant_(l1.weight, 2.0)\n",
    "nn.init.constant_(l1.bias, 1.0)\n",
    "\n",
    "# 결과 확인\n",
    "print(l1.weight)\n",
    "print(l1.bias)"
   ]
  },
  {
   "cell_type": "code",
   "execution_count": 6,
   "metadata": {},
   "outputs": [
    {
     "name": "stdout",
     "output_type": "stream",
     "text": [
      "torch.Size([5, 1])\n",
      "tensor([[-2.],\n",
      "        [-1.],\n",
      "        [ 0.],\n",
      "        [ 1.],\n",
      "        [ 2.]])\n"
     ]
    }
   ],
   "source": [
    "# 테스트 데이터 생성\n",
    "# x_np를 넘파이 배열로 정의\n",
    "x_np = np.arange(-2, 2.1, 1)\n",
    "\n",
    "# 텐서 변수화\n",
    "x = torch.tensor(x_np).float()\n",
    "\n",
    "# (M, 1) 사이즈로 변경\n",
    "x = x.view(-1, 1)\n",
    "\n",
    "# 결과 확인\n",
    "print(x.shape)\n",
    "print(x)"
   ]
  },
  {
   "cell_type": "code",
   "execution_count": 7,
   "metadata": {},
   "outputs": [
    {
     "name": "stdout",
     "output_type": "stream",
     "text": [
      "torch.Size([5, 1])\n",
      "tensor([[-3.],\n",
      "        [-1.],\n",
      "        [ 1.],\n",
      "        [ 3.],\n",
      "        [ 5.]])\n"
     ]
    }
   ],
   "source": [
    "# 1차 함수 테스트\n",
    "y = l1(x)\n",
    "\n",
    "print(y.shape)\n",
    "print(y.data)"
   ]
  },
  {
   "cell_type": "code",
   "execution_count": 8,
   "metadata": {},
   "outputs": [
    {
     "name": "stdout",
     "output_type": "stream",
     "text": [
      "Parameter containing:\n",
      "tensor([[1., 1.]], requires_grad=True)\n",
      "Parameter containing:\n",
      "tensor([2.], requires_grad=True)\n"
     ]
    }
   ],
   "source": [
    "# 입력 : 2, 출력 : 1 선형 함수의 정의\n",
    "l2 = nn.Linear(2, 1)\n",
    "\n",
    "# 초깃값 설정\n",
    "nn.init.constant_(l2.weight, 1.0)\n",
    "nn.init.constant_(l2.bias, 2.0)\n",
    "\n",
    "# 결과 확인\n",
    "print(l2.weight)\n",
    "print(l2.bias)"
   ]
  },
  {
   "cell_type": "code",
   "execution_count": 9,
   "metadata": {},
   "outputs": [
    {
     "name": "stdout",
     "output_type": "stream",
     "text": [
      "torch.Size([4, 2])\n",
      "tensor([[0., 0.],\n",
      "        [0., 1.],\n",
      "        [1., 0.],\n",
      "        [1., 1.]])\n"
     ]
    }
   ],
   "source": [
    "# 2차원 넘파이 배열\n",
    "x2_np = np.array([[0, 0], [0, 1], [1, 0], [1, 1]])\n",
    "\n",
    "# 텐서 변수화\n",
    "x2 = torch.tensor(x2_np).float()\n",
    "\n",
    "# 결과 확인\n",
    "print(x2.shape)\n",
    "print(x2)"
   ]
  },
  {
   "cell_type": "code",
   "execution_count": 10,
   "metadata": {},
   "outputs": [
    {
     "name": "stdout",
     "output_type": "stream",
     "text": [
      "torch.Size([4, 1])\n",
      "tensor([[2.],\n",
      "        [3.],\n",
      "        [3.],\n",
      "        [4.]])\n"
     ]
    }
   ],
   "source": [
    "# 함수 값 계산\n",
    "y2 = l2(x2)\n",
    "\n",
    "# shape 확인\n",
    "print(y2.shape)\n",
    "\n",
    "# 값 확인\n",
    "print(y2.data)"
   ]
  },
  {
   "cell_type": "code",
   "execution_count": 12,
   "metadata": {},
   "outputs": [
    {
     "name": "stdout",
     "output_type": "stream",
     "text": [
      "Parameter containing:\n",
      "tensor([[1., 1.],\n",
      "        [2., 2.],\n",
      "        [3., 3.]], requires_grad=True)\n",
      "Parameter containing:\n",
      "tensor([2., 2., 2.], requires_grad=True)\n"
     ]
    }
   ],
   "source": [
    "# 입려 : 2, 출력 : 3 선형 함수 정의\n",
    "l3 = nn.Linear(2, 3)\n",
    "\n",
    "# 초깃값 설정\n",
    "nn.init.constant_(l3.weight[0, :], 1.0)\n",
    "nn.init.constant_(l3.weight[1, :], 2.0)\n",
    "nn.init.constant_(l3.weight[2, :], 3.0)\n",
    "nn.init.constant_(l3.bias, 2.0)\n",
    "\n",
    "# 결과 확인\n",
    "print(l3.weight)\n",
    "print(l3.bias)"
   ]
  },
  {
   "cell_type": "code",
   "execution_count": 13,
   "metadata": {},
   "outputs": [
    {
     "name": "stdout",
     "output_type": "stream",
     "text": [
      "torch.Size([4, 3])\n",
      "tensor([[2., 2., 2.],\n",
      "        [3., 4., 5.],\n",
      "        [3., 4., 5.],\n",
      "        [4., 6., 8.]])\n"
     ]
    }
   ],
   "source": [
    "# 함수 값 계산\n",
    "y3 = l3(x2)\n",
    "\n",
    "# shape 확인\n",
    "print(y3.shape)\n",
    "\n",
    "# 값 확인\n",
    "print(y3.data)"
   ]
  },
  {
   "cell_type": "code",
   "execution_count": 14,
   "metadata": {},
   "outputs": [],
   "source": [
    "# 모델 정의\n",
    "class Net(nn.Module):\n",
    "    def __init__(self, n_input, n_output):\n",
    "        # 부모 클래스 nn.Module 초기화\n",
    "        super().__init__()\n",
    "\n",
    "        # 출력층 정의\n",
    "        self.l1 = nn.Linear(n_input, n_output)\n",
    "\n",
    "    # 예측 함수 정의\n",
    "    def forward(self, x):\n",
    "        x1 = self.l1(x)\n",
    "\n",
    "        return x1"
   ]
  },
  {
   "cell_type": "code",
   "execution_count": 15,
   "metadata": {},
   "outputs": [],
   "source": [
    "# 더미 입력\n",
    "inputs = torch.ones(100, 1)\n",
    "\n",
    "# 인스턴스 생성(1 입력, 1 출력 선형 모델)\n",
    "n_input = 1\n",
    "n_output = 1\n",
    "net = Net(n_input, n_output)\n",
    "\n",
    "# 예측\n",
    "outputs = net(inputs)"
   ]
  },
  {
   "cell_type": "code",
   "execution_count": 16,
   "metadata": {},
   "outputs": [],
   "source": [
    "# 손실 함수 : 평균 제곱 오차\n",
    "criterion = nn.MSELoss() "
   ]
  }
 ],
 "metadata": {
  "kernelspec": {
   "display_name": "Python 3",
   "language": "python",
   "name": "python3"
  },
  "language_info": {
   "codemirror_mode": {
    "name": "ipython",
    "version": 3
   },
   "file_extension": ".py",
   "mimetype": "text/x-python",
   "name": "python",
   "nbconvert_exporter": "python",
   "pygments_lexer": "ipython3",
   "version": "3.11.2"
  }
 },
 "nbformat": 4,
 "nbformat_minor": 2
}

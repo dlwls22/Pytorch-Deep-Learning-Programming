{
 "cells": [
  {
   "cell_type": "code",
   "execution_count": 1,
   "metadata": {},
   "outputs": [],
   "source": [
    "import torch\n",
    "import torch.nn as nn"
   ]
  },
  {
   "cell_type": "code",
   "execution_count": 3,
   "metadata": {},
   "outputs": [],
   "source": [
    "# 레이어 함수 정의\n",
    "\n",
    "# 첫 번째 선형 함수\n",
    "l1 = nn.Linear(784, 128)\n",
    "\n",
    "# 두 번째 선형 함수\n",
    "l2 = nn.Linear(128, 10)\n",
    "\n",
    "# 활성화 함수\n",
    "relu = nn.ReLU(inplace = True)"
   ]
  },
  {
   "cell_type": "code",
   "execution_count": 5,
   "metadata": {},
   "outputs": [
    {
     "name": "stdout",
     "output_type": "stream",
     "text": [
      "입력 텐서 torch.Size([100, 784])\n",
      "출력 텐서 torch.Size([100, 10])\n"
     ]
    }
   ],
   "source": [
    "# 입력 텐서로부터 출력 텐서를 계산\n",
    "\n",
    "# 더미 입력 데이터 작성\n",
    "inputs = torch.randn(100, 784)\n",
    "\n",
    "# 중간 텐서1 계산\n",
    "m1 = l1(inputs)\n",
    "\n",
    "# 중간 텐서2 계산\n",
    "m2 = relu(m1)\n",
    "\n",
    "# 출력 텐서 계산\n",
    "outputs = l2(m2)\n",
    "\n",
    "# 입력 텐서와 출력 텐서 shape 확인\n",
    "print('입력 텐서', inputs.shape)\n",
    "print('출력 텐서', outputs.shape)"
   ]
  },
  {
   "cell_type": "code",
   "execution_count": 6,
   "metadata": {},
   "outputs": [
    {
     "name": "stdout",
     "output_type": "stream",
     "text": [
      "입력 텐서 torch.Size([100, 784])\n",
      "출력 텐서 torch.Size([100, 10])\n"
     ]
    }
   ],
   "source": [
    "# nn.Sequential을 사용해 전체를 합성 함수로 정의\n",
    "net2 = nn.Sequential(\n",
    "    l1,\n",
    "    relu,\n",
    "    l2\n",
    ")\n",
    "\n",
    "outputs2 = net2(inputs)\n",
    "\n",
    "# 입력 텐서와 출력 텐서의 shape 확인\n",
    "print('입력 텐서', inputs.shape)\n",
    "print('출력 텐서', outputs2.shape)"
   ]
  },
  {
   "cell_type": "code",
   "execution_count": null,
   "metadata": {},
   "outputs": [],
   "source": []
  }
 ],
 "metadata": {
  "kernelspec": {
   "display_name": "Python 3",
   "language": "python",
   "name": "python3"
  },
  "language_info": {
   "codemirror_mode": {
    "name": "ipython",
    "version": 3
   },
   "file_extension": ".py",
   "mimetype": "text/x-python",
   "name": "python",
   "nbconvert_exporter": "python",
   "pygments_lexer": "ipython3",
   "version": "3.11.2"
  }
 },
 "nbformat": 4,
 "nbformat_minor": 2
}

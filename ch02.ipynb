{
 "cells": [
  {
   "cell_type": "code",
   "execution_count": 1,
   "metadata": {},
   "outputs": [],
   "source": [
    "# 라이브러리 임포트\n",
    "import torch\n",
    "import numpy as np\n",
    "import matplotlib.pyplot as plt\n",
    "\n",
    "from torchviz import make_dot"
   ]
  },
  {
   "cell_type": "markdown",
   "metadata": {},
   "source": [
    "## 다양한 계수의 텐서 만들기"
   ]
  },
  {
   "cell_type": "code",
   "execution_count": 2,
   "metadata": {},
   "outputs": [
    {
     "name": "stdout",
     "output_type": "stream",
     "text": [
      "<class 'torch.Tensor'>\n",
      "torch.float32\n"
     ]
    }
   ],
   "source": [
    "# 0계 텐서(스칼라)\n",
    "r0 = torch.tensor(1.0).float()\n",
    "\n",
    "# type 확인\n",
    "print(type(r0))\n",
    "\n",
    "# dtype 확인\n",
    "print(r0.dtype)"
   ]
  },
  {
   "cell_type": "code",
   "execution_count": 3,
   "metadata": {},
   "outputs": [
    {
     "name": "stdout",
     "output_type": "stream",
     "text": [
      "torch.Size([])\n",
      "tensor(1.)\n"
     ]
    }
   ],
   "source": [
    "# shape 확인\n",
    "print(r0.shape)\n",
    "\n",
    "# 데이터 확인\n",
    "print(r0.data)"
   ]
  },
  {
   "cell_type": "code",
   "execution_count": 4,
   "metadata": {},
   "outputs": [
    {
     "name": "stdout",
     "output_type": "stream",
     "text": [
      "(5,)\n",
      "torch.float32\n",
      "torch.Size([5])\n",
      "tensor([1., 2., 3., 4., 5.])\n"
     ]
    }
   ],
   "source": [
    "# 1계 텐서(벡터)\n",
    "\n",
    "# 1계 넘파이 변수 작성\n",
    "r1_np = np.array([1, 2, 3, 4, 5])\n",
    "print(r1_np.shape)\n",
    "\n",
    "# 넘파이에서 텐서 변환\n",
    "r1 = torch.tensor(r1_np).float()\n",
    "\n",
    "# dtype 확인\n",
    "print(r1.dtype)\n",
    "\n",
    "# shape 확인\n",
    "print(r1.shape)\n",
    "\n",
    "# 데이터 확인\n",
    "print(r1.data)"
   ]
  },
  {
   "cell_type": "code",
   "execution_count": 5,
   "metadata": {},
   "outputs": [
    {
     "name": "stdout",
     "output_type": "stream",
     "text": [
      "(2, 3)\n",
      "torch.Size([2, 3])\n",
      "tensor([[1., 5., 6.],\n",
      "        [4., 3., 2.]])\n"
     ]
    }
   ],
   "source": [
    "# 2계 텐서(행렬)\n",
    "\n",
    "# 2계 넘파이 변수 작성\n",
    "r2_np = np.array([[1, 5, 6], [4, 3, 2]])\n",
    "print(r2_np.shape)\n",
    "\n",
    "# 넘파이에서 텐서로 변환\n",
    "r2 = torch.tensor(r2_np).float()\n",
    "\n",
    "# shape 확인\n",
    "print(r2.shape)\n",
    "\n",
    "# 데이터 확인\n",
    "print(r2.data)"
   ]
  },
  {
   "cell_type": "code",
   "execution_count": 6,
   "metadata": {},
   "outputs": [
    {
     "name": "stdout",
     "output_type": "stream",
     "text": [
      "torch.Size([3, 2, 2])\n",
      "tensor([[[ 0.3367,  0.1288],\n",
      "         [ 0.2345,  0.2303]],\n",
      "\n",
      "        [[-1.1229, -0.1863],\n",
      "         [ 2.2082, -0.6380]],\n",
      "\n",
      "        [[ 0.4617,  0.2674],\n",
      "         [ 0.5349,  0.8094]]])\n"
     ]
    }
   ],
   "source": [
    "# 3계 텐서\n",
    "\n",
    "# 난수 seed 초기화\n",
    "torch.manual_seed(42)\n",
    "\n",
    "# shape = [3, 2, 2]의 정규분포 텐서 작성\n",
    "r3 = torch.randn((3, 2, 2))\n",
    "\n",
    "# shape 확인\n",
    "print(r3.shape)\n",
    "\n",
    "# 데이터 확인\n",
    "print(r3.data)"
   ]
  },
  {
   "cell_type": "code",
   "execution_count": 7,
   "metadata": {},
   "outputs": [
    {
     "name": "stdout",
     "output_type": "stream",
     "text": [
      "torch.Size([2, 3, 2, 2])\n",
      "tensor([[[[1., 1.],\n",
      "          [1., 1.]],\n",
      "\n",
      "         [[1., 1.],\n",
      "          [1., 1.]],\n",
      "\n",
      "         [[1., 1.],\n",
      "          [1., 1.]]],\n",
      "\n",
      "\n",
      "        [[[1., 1.],\n",
      "          [1., 1.]],\n",
      "\n",
      "         [[1., 1.],\n",
      "          [1., 1.]],\n",
      "\n",
      "         [[1., 1.],\n",
      "          [1., 1.]]]])\n"
     ]
    }
   ],
   "source": [
    "# 4계 텐서\n",
    "\n",
    "# 요소가 모두 1인 shape = [2, 3, 2, 2] 텐서 작성\n",
    "r4 = torch.ones((2, 3, 2, 2))\n",
    "\n",
    "# shape 확인\n",
    "print(r4.shape)\n",
    "\n",
    "# 데이터 확인\n",
    "print(r4.data)"
   ]
  },
  {
   "cell_type": "code",
   "execution_count": 8,
   "metadata": {},
   "outputs": [
    {
     "name": "stdout",
     "output_type": "stream",
     "text": [
      "torch.int64\n",
      "tensor([1, 2, 3, 4, 5])\n"
     ]
    }
   ],
   "source": [
    "# 정수형 텐서로 변환\n",
    "r5 = r1.long()\n",
    "\n",
    "# dtype 확인\n",
    "print(r5.dtype)\n",
    "\n",
    "# 값 확인\n",
    "print(r5)"
   ]
  },
  {
   "cell_type": "code",
   "execution_count": 9,
   "metadata": {},
   "outputs": [
    {
     "name": "stdout",
     "output_type": "stream",
     "text": [
      "torch.Size([3, 4])\n",
      "tensor([[ 0.3367,  0.1288,  0.2345,  0.2303],\n",
      "        [-1.1229, -0.1863,  2.2082, -0.6380],\n",
      "        [ 0.4617,  0.2674,  0.5349,  0.8094]])\n"
     ]
    }
   ],
   "source": [
    "# View 함수\n",
    "# 2계화\n",
    "# 요소 수를 -1로 지정하면 이 수를 자동으로 조정\n",
    "r6 = r3.view(3, -1)\n",
    "\n",
    "# shape 확인\n",
    "print(r6.shape)\n",
    "\n",
    "# 값 확인\n",
    "print(r6)"
   ]
  },
  {
   "cell_type": "code",
   "execution_count": 10,
   "metadata": {},
   "outputs": [
    {
     "name": "stdout",
     "output_type": "stream",
     "text": [
      "torch.Size([12])\n",
      "tensor([ 0.3367,  0.1288,  0.2345,  0.2303, -1.1229, -0.1863,  2.2082, -0.6380,\n",
      "         0.4617,  0.2674,  0.5349,  0.8094])\n"
     ]
    }
   ],
   "source": [
    "# 1계화\n",
    "r7 = r3.view(-1)\n",
    "\n",
    "# shape 확인\n",
    "print(r7.shape)\n",
    "\n",
    "# 값 확인\n",
    "print(r7)"
   ]
  },
  {
   "cell_type": "code",
   "execution_count": 11,
   "metadata": {},
   "outputs": [
    {
     "name": "stdout",
     "output_type": "stream",
     "text": [
      "<class 'float'>\n",
      "1.0\n"
     ]
    }
   ],
   "source": [
    "# item 함수\n",
    "# 스칼라 텐서(0계 텐서)는 item 함수로 값을 꺼낼 수 있음\n",
    "item = r0.item()\n",
    "\n",
    "print(type(item))\n",
    "print(item)"
   ]
  },
  {
   "cell_type": "code",
   "execution_count": 12,
   "metadata": {},
   "outputs": [
    {
     "name": "stdout",
     "output_type": "stream",
     "text": [
      "<built-in method item of Tensor object at 0x0000020329568C30>\n"
     ]
    }
   ],
   "source": [
    "# 스칼라 이외의 텐서에 item 함수는 무효함\n",
    "print(r1.item)"
   ]
  },
  {
   "cell_type": "code",
   "execution_count": 13,
   "metadata": {},
   "outputs": [
    {
     "name": "stdout",
     "output_type": "stream",
     "text": [
      "torch.Size([1])\n",
      "1.0\n"
     ]
    }
   ],
   "source": [
    "# 요소 수가 하나뿐인 1계 텐서는 괜찮\n",
    "t1 = torch.ones(1)\n",
    "\n",
    "# shape 확인\n",
    "print(t1.shape)\n",
    "\n",
    "# item 함수 호출\n",
    "print(t1.item())"
   ]
  },
  {
   "cell_type": "code",
   "execution_count": 14,
   "metadata": {},
   "outputs": [
    {
     "name": "stdout",
     "output_type": "stream",
     "text": [
      "tensor([[1., 5., 6.],\n",
      "        [4., 3., 2.]])\n",
      "tensor(6.)\n"
     ]
    }
   ],
   "source": [
    "# max 함수\n",
    "print(r2)\n",
    "\n",
    "print(r2.max())"
   ]
  },
  {
   "cell_type": "code",
   "execution_count": 15,
   "metadata": {},
   "outputs": [
    {
     "name": "stdout",
     "output_type": "stream",
     "text": [
      "torch.return_types.max(\n",
      "values=tensor([6., 4.]),\n",
      "indices=tensor([2, 0]))\n"
     ]
    }
   ],
   "source": [
    "# torch.max 함수\n",
    "# 두번째 인수는 기준이 되는 축 의미\n",
    "print(torch.max(r2, 1))"
   ]
  },
  {
   "cell_type": "code",
   "execution_count": 16,
   "metadata": {},
   "outputs": [
    {
     "name": "stdout",
     "output_type": "stream",
     "text": [
      "tensor([2, 0])\n"
     ]
    }
   ],
   "source": [
    "# 몇 번째 요소가 최댓값인지 indices 확인을 통해 알 수 있음\n",
    "# 아래 계산은 다중 분류에서 예측 라벨을 구할 떄, 자주 사용되는 표현\n",
    "print(torch.max(r2, 1)[1])"
   ]
  },
  {
   "cell_type": "code",
   "execution_count": 17,
   "metadata": {},
   "outputs": [
    {
     "name": "stdout",
     "output_type": "stream",
     "text": [
      "<class 'numpy.ndarray'>\n",
      "[[1. 5. 6.]\n",
      " [4. 3. 2.]]\n"
     ]
    }
   ],
   "source": [
    "# 넘파이 변수로 변환\n",
    "r2_np = r2.data.numpy()\n",
    "\n",
    "# type 확인\n",
    "print(type(r2_np))\n",
    "\n",
    "# 값 확인\n",
    "print(r2_np)"
   ]
  },
  {
   "cell_type": "code",
   "execution_count": 18,
   "metadata": {},
   "outputs": [
    {
     "name": "stdout",
     "output_type": "stream",
     "text": [
      "[-2.   -1.75 -1.5  -1.25 -1.   -0.75 -0.5  -0.25  0.    0.25  0.5   0.75\n",
      "  1.    1.25  1.5   1.75  2.  ]\n"
     ]
    }
   ],
   "source": [
    "# 2차 함수의 경사 계산\n",
    "# x를 넘파이 배열로 정의\n",
    "x_np = np.arange(-2, 2.1, 0.25)\n",
    "\n",
    "# x값 표시\n",
    "print(x_np)"
   ]
  },
  {
   "cell_type": "code",
   "execution_count": 19,
   "metadata": {},
   "outputs": [
    {
     "name": "stdout",
     "output_type": "stream",
     "text": [
      "tensor([-2.0000, -1.7500, -1.5000, -1.2500, -1.0000, -0.7500, -0.5000, -0.2500,\n",
      "         0.0000,  0.2500,  0.5000,  0.7500,  1.0000,  1.2500,  1.5000,  1.7500,\n",
      "         2.0000], requires_grad=True)\n"
     ]
    }
   ],
   "source": [
    "# requires_grad = True로 설정\n",
    "x = torch.tensor(x_np, requires_grad = True,\n",
    "                 dtype = torch.float32)\n",
    "\n",
    "# 결과 확인\n",
    "print(x)"
   ]
  },
  {
   "cell_type": "code",
   "execution_count": 20,
   "metadata": {},
   "outputs": [
    {
     "name": "stdout",
     "output_type": "stream",
     "text": [
      "tensor([10.0000,  8.1250,  6.5000,  5.1250,  4.0000,  3.1250,  2.5000,  2.1250,\n",
      "         2.0000,  2.1250,  2.5000,  3.1250,  4.0000,  5.1250,  6.5000,  8.1250,\n",
      "        10.0000], grad_fn=<AddBackward0>)\n"
     ]
    }
   ],
   "source": [
    "# 2차 함수의 계산\n",
    "# 계산 그래프는 내부에서 자동 생성\n",
    "y = 2 * x**2 + 2\n",
    "\n",
    "# y의 계산 결과\n",
    "print(y)"
   ]
  },
  {
   "cell_type": "code",
   "execution_count": 21,
   "metadata": {},
   "outputs": [
    {
     "data": {
      "image/png": "[encoded data removed]",
      "text/plain": [
       "<Figure size 640x480 with 1 Axes>"
      ]
     },
     "metadata": {},
     "output_type": "display_data"
    }
   ],
   "source": [
    "# 그래프 출력\n",
    "plt.plot(x.data, y.data)\n",
    "plt.show()"
   ]
  },
  {
   "cell_type": "code",
   "execution_count": 22,
   "metadata": {},
   "outputs": [],
   "source": [
    "# 경사 계산을 위해 최종 값은 스칼라여야함으로 더미로 sum 함수를 붙임\n",
    "z = y.sum()"
   ]
  },
  {
   "cell_type": "code",
   "execution_count": 23,
   "metadata": {},
   "outputs": [],
   "source": [
    "g = make_dot(z, params = {'x' : x})\n",
    "display(g)"
   ]
  },
  {
   "cell_type": "code",
   "execution_count": 24,
   "metadata": {},
   "outputs": [],
   "source": [
    "# 경사 계산\n",
    "z.backward()"
   ]
  },
  {
   "cell_type": "code",
   "execution_count": 25,
   "metadata": {},
   "outputs": [
    {
     "name": "stdout",
     "output_type": "stream",
     "text": [
      "tensor([-8., -7., -6., -5., -4., -3., -2., -1.,  0.,  1.,  2.,  3.,  4.,  5.,\n",
      "         6.,  7.,  8.])\n"
     ]
    }
   ],
   "source": [
    "# 경삿값 가져오기\n",
    "print(x.grad)"
   ]
  },
  {
   "cell_type": "code",
   "execution_count": 26,
   "metadata": {},
   "outputs": [
    {
     "data": {
      "image/png": "[encoded data removed]",
      "text/plain": [
       "<Figure size 640x480 with 1 Axes>"
      ]
     },
     "metadata": {},
     "output_type": "display_data"
    }
   ],
   "source": [
    "# 원래 함수와 경사 그래프\n",
    "plt.plot(x.data, y.data, c = 'b', label = 'y')\n",
    "plt.plot(x.data, x.grad.data, c = 'k', label = 'y_grad')\n",
    "plt.legend()\n",
    "plt.show()"
   ]
  },
  {
   "cell_type": "code",
   "execution_count": null,
   "metadata": {},
   "outputs": [],
   "source": []
  }
 ],
 "metadata": {
  "kernelspec": {
   "display_name": "Python 3",
   "language": "python",
   "name": "python3"
  },
  "language_info": {
   "codemirror_mode": {
    "name": "ipython",
    "version": 3
   },
   "file_extension": ".py",
   "mimetype": "text/x-python",
   "name": "python",
   "nbconvert_exporter": "python",
   "pygments_lexer": "ipython3",
   "version": "3.11.2"
  }
 },
 "nbformat": 4,
 "nbformat_minor": 2
}
